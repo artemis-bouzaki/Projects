{
 "cells": [
  {
   "cell_type": "markdown",
   "id": "7d29320d",
   "metadata": {},
   "source": [
    "# Calculation of the $D^{0} \\rightarrow K^{-}\\pi^{+}$ detection asymmetry\n"
   ]
  },
  {
   "cell_type": "code",
   "execution_count": 13,
   "id": "4bf74033",
   "metadata": {},
   "outputs": [],
   "source": [
    "#import some libraries\n",
    "import uproot\n",
    "import numpy as np\n",
    "import matplotlib.pyplot as plt\n",
    "import matplotlib.colors as colors\n",
    "from scipy.optimize import curve_fit \n",
    "import scipy.constants as sc\n",
    "from scipy.stats import norm\n",
    "import matplotlib.mlab as mlab\n",
    "from scipy.stats import crystalball \n",
    "from scipy.stats import johnsonsu\n",
    "import matplotlib.patches as mpl_patches"
   ]
  },
  {
   "cell_type": "markdown",
   "id": "13bbde8a",
   "metadata": {},
   "source": [
    "## Production asymmetry for the file: /eos/lhcb/user/m/mhilton/D02Kpi/D02Kpi_2018_MagUp_new.root"
   ]
  },
  {
   "cell_type": "code",
   "execution_count": 14,
   "id": "8c363a1a",
   "metadata": {},
   "outputs": [],
   "source": [
    "# Value for the K0 short asymmetry as quoted in the paper: https://cds.cern.ch/record/1556318/files/LHCb-ANA-2013-055.pdf\n",
    "\n",
    "ASYM_K0 =  0.054 # known value\n",
    "ASYM_K0_ERROR = 0.014 # known value"
   ]
  },
  {
   "cell_type": "code",
   "execution_count": 15,
   "id": "6d4a974f",
   "metadata": {},
   "outputs": [
    {
     "name": "stdout",
     "output_type": "stream",
     "text": [
      "The detection asymmetry for the D0 Kpi physics channel is 0.759 +/- 0.134\n",
      "The production asymmetry for the D0 Kpi physics channel is 0.756 +/- 0.134\n"
     ]
    }
   ],
   "source": [
    "# all asymmetries are given in percentage (%)\n",
    "# The raw asymmery values are the ones selected based on comparison with other models (best model selected based on chi2 and residuals)\n",
    "\n",
    "# list of asymmetries\n",
    "DET_ASYM_KPIPI = -1.74062350645  # found from code at AsymmetryTools main.py\n",
    "DET_ASYM_KSPI =  -0.927563986005 # found from code at AsymmetryTools main.py\n",
    "RAW_ASYM =  -0.0034959981111524706 #raw asymmetry found from mass fittings in project: D0_mass_fittings\n",
    "\n",
    "#list of errors in asymmetries\n",
    "DET_ASYM_KPIPI_ERROR =  0.0824369490013 # found from code at AsymmetryTools main.py\n",
    "DET_ASYM_KSPI_ERROR =  0.104528734057 # found from code at AsymmetryTools main.py\n",
    "RAW_ASYM_ERROR = 0.0015787219305997506\n",
    "\n",
    "#calculation of Kpi detection asymmetry and its error\n",
    "DET_ASYM_KPI = -DET_ASYM_KPIPI + DET_ASYM_KSPI - ASYM_K0 #% #K+pi- asymmetry\n",
    "DET_ASYM_KPI_ERROR = np.sqrt(DET_ASYM_KSPI_ERROR**2 + DET_ASYM_KPIPI_ERROR**2 + ASYM_K0_ERROR**2) \n",
    "\n",
    "#calculation of D0 production asymmetry and its error\n",
    "PROD_ASYM = RAW_ASYM + DET_ASYM_KPI\n",
    "PROD_ASYM_ERROR = np.sqrt(DET_ASYM_KPI_ERROR**2 + RAW_ASYM_ERROR**2)\n",
    "\n",
    "\n",
    "print(r'The detection asymmetry for the D0 Kpi physics channel is', round(DET_ASYM_KPI, 3), '+/-',  \n",
    "      round(DET_ASYM_KPI_ERROR, 3))\n",
    "print(r'The production asymmetry for the D0 Kpi physics channel is', round(PROD_ASYM, 3), '+/-',  \n",
    "      round(PROD_ASYM_ERROR, 3))\n",
    "\n"
   ]
  },
  {
   "cell_type": "markdown",
   "id": "9a22dfc2",
   "metadata": {},
   "source": [
    "## Production asymmetry for the file: /eos/lhcb/user/a/aburke/D02Kpi/2018_MagUp_small_data.root"
   ]
  },
  {
   "cell_type": "code",
   "execution_count": 16,
   "id": "ff385bc6",
   "metadata": {},
   "outputs": [
    {
     "name": "stdout",
     "output_type": "stream",
     "text": [
      "The detection asymmetry for the D0 Kpi physics channel is 0.295 +/- 0.243\n",
      "The production asymmetry for the D0 Kpi physics channel is -1.105 +/- 0.502\n"
     ]
    }
   ],
   "source": [
    "# Note that the detection asymmetry values here are corresponding to the values without skiping the reweighting\n",
    "# If the code is ran using the reweighting from MagUp the Kpipi and KsPi asymmetries for MagUp and MagDown \n",
    "# are identical and equal to the values given in the previous cell\n",
    "\n",
    "DET_ASYM_KPIPI2 = -1.38735040637   # found from code at AsymmetryTools main.py\n",
    "DET_ASYM_KSPI2 =  -1.03810041273  # found from code at AsymmetryTools main.py\n",
    "RAW_ASYM2 = -1.4 #raw asymmetry found from mass fittings in project: D0 mass fitings small data (real) # %\n",
    "\n",
    "DET_ASYM_KPIPI_ERROR2 =   0.104546512462 # found from code at AsymmetryTools main.py\n",
    "DET_ASYM_KSPI_ERROR2 =  0.218397321445 # found from code at AsymmetryTools main.py\n",
    "RAW_ASYM_ERROR2 = 0.44\n",
    "\n",
    "DET_ASYM_KPI2 = -DET_ASYM_KPIPI2 + DET_ASYM_KSPI2 - ASYM_K0 #% #K+pi- asymmetry\n",
    "DET_ASYM_KPI2_ERROR = np.sqrt(DET_ASYM_KSPI_ERROR2**2 + DET_ASYM_KPIPI_ERROR2**2 + ASYM_K0_ERROR**2) \n",
    "\n",
    "PROD_ASYM2 = RAW_ASYM2 + DET_ASYM_KPI2\n",
    "PROD_ASYM2_ERROR = np.sqrt(DET_ASYM_KPI2_ERROR**2 + RAW_ASYM_ERROR2**2)\n",
    "\n",
    "\n",
    "print(r'The detection asymmetry for the D0 Kpi physics channel is', round(DET_ASYM_KPI2, 3), '+/-',\n",
    "      round(DET_ASYM_KPI2_ERROR, 3))\n",
    "print(r'The production asymmetry for the D0 Kpi physics channel is', round(PROD_ASYM2, 3), '+/-',\n",
    "      round(PROD_ASYM2_ERROR, 3))\n",
    "\n",
    "\n"
   ]
  },
  {
   "cell_type": "markdown",
   "id": "3ccccb6a",
   "metadata": {},
   "source": [
    "## Production asymmetry for the file: /eos/lhcb/user/e/egersa/promptD0Kpi/data/2018/up/"
   ]
  },
  {
   "cell_type": "code",
   "execution_count": 17,
   "id": "83e34d27",
   "metadata": {},
   "outputs": [
    {
     "name": "stdout",
     "output_type": "stream",
     "text": [
      "The detection asymmetry for the D0 Kpi physics channel is 0.303 +/- 0.291\n",
      "The production asymmetry for the D0 Kpi physics channel (two gauss model) is -1.017 +/- 0.305\n",
      "The production asymmetry for the D0 Kpi physics channel (Johnson/Gauss model) is -1.438 +/- 0.305\n",
      "The production asymmetry for the D0 Kpi physics channel (Johnson/Two Gauss model) is -0.546 +/- 0.305\n"
     ]
    }
   ],
   "source": [
    "# 2018 MagUp data did not provide any models that were very satisactory\n",
    "# Production asymmetries were calculated for different models to compare \n",
    "\n",
    "#Model 1 (Double Gauss)\n",
    "DET_ASYM_KPIPI3 =  -1.35155845021   # found from code at AsymmetryTools main.py\n",
    "DET_ASYM_KSPI3 =  -0.994455276829  # found from code at AsymmetryTools main.py\n",
    "RAW_ASYM3 = -1.3203944328616603 #raw asymmetry found from mass fitting Gauss+ Gauss (+line for background) # %\n",
    "\n",
    "DET_ASYM_KPIPI_ERROR3 =   0.129914834376 # found from code at AsymmetryTools main.py\n",
    "DET_ASYM_KSPI_ERROR3 =  0.26055676834 # found from code at AsymmetryTools main.py\n",
    "RAW_ASYM_ERROR3 = 0.08990320630647547\n",
    "\n",
    "DET_ASYM_KPI3 = -DET_ASYM_KPIPI3 + DET_ASYM_KSPI3 - ASYM_K0 #% #K+pi- asymmetry\n",
    "DET_ASYM_KPI3_ERROR = np.sqrt(DET_ASYM_KSPI_ERROR3**2 + DET_ASYM_KPIPI_ERROR3**2 + ASYM_K0_ERROR**2) \n",
    "\n",
    "#Model 2(Johnson +  Gauss)\n",
    "RAW_ASYM5 = -1.740855452879278\n",
    "RAW_ASYM_ERROR5 = 0.08941293341109597\n",
    "\n",
    "#Model 3 (Johnson + Double Gauss)\n",
    "RAW_ASYM6 = -0.8492673366624612\n",
    "RAW_ASYM_ERROR6 = 0.08905645928339216\n",
    "\n",
    "#production asymmetry for double gauss model\n",
    "PROD_ASYM3 = RAW_ASYM3 + DET_ASYM_KPI3\n",
    "PROD_ASYM3_ERROR = np.sqrt(DET_ASYM_KPI3_ERROR**2 + RAW_ASYM_ERROR3**2)\n",
    "#production asymmetry for Johnson + Gauss model\n",
    "PROD_ASYM5 = RAW_ASYM5 + DET_ASYM_KPI3\n",
    "PROD_ASYM5_ERROR = np.sqrt(DET_ASYM_KPI3_ERROR**2 + RAW_ASYM_ERROR5**2)\n",
    "#production asymmetry for Johnson + Gauss + Gauss model\n",
    "PROD_ASYM6 = RAW_ASYM6 + DET_ASYM_KPI3\n",
    "PROD_ASYM6_ERROR = np.sqrt(DET_ASYM_KPI3_ERROR**2 + RAW_ASYM_ERROR6**2)\n",
    "\n",
    "\n",
    "\n",
    "#print results\n",
    "# Two gauss model\n",
    "print(r'The detection asymmetry for the D0 Kpi physics channel is', round(DET_ASYM_KPI3, 3), '+/-',\n",
    "      round(DET_ASYM_KPI3_ERROR, 3))\n",
    "print(r'The production asymmetry for the D0 Kpi physics channel (two gauss model) is', round(PROD_ASYM3, 3), '+/-',\n",
    "      round(PROD_ASYM3_ERROR, 3))\n",
    "# Johnson + Gauss model\n",
    "print(r'The production asymmetry for the D0 Kpi physics channel (Johnson/Gauss model) is', round(PROD_ASYM5, 3), '+/-',\n",
    "      round(PROD_ASYM5_ERROR, 3))\n",
    "# Johnson + two Gauss model\n",
    "print(r'The production asymmetry for the D0 Kpi physics channel (Johnson/Two Gauss model) is', round(PROD_ASYM6, 3), '+/-',\n",
    "      round(PROD_ASYM6_ERROR, 3))\n"
   ]
  },
  {
   "cell_type": "markdown",
   "id": "5ff7561e",
   "metadata": {},
   "source": [
    "## Production asymmetry for the file: /eos/lhcb/user/e/egersa/promptD0Kpi/data/2018/down/"
   ]
  },
  {
   "cell_type": "code",
   "execution_count": 18,
   "id": "e47a1a57",
   "metadata": {},
   "outputs": [
    {
     "name": "stdout",
     "output_type": "stream",
     "text": [
      "The detection asymmetry for the D0 Kpi physics channel is 0.726 +/- 0.303 %.\n",
      "The production asymmetry for the D0 Kpi physics channel is -0.507 +/- 0.323 %.\n"
     ]
    }
   ],
   "source": [
    "DET_ASYM_KPIPI4 =  -1.13409209854   # found from code at AsymmetryTools main.py\n",
    "DET_ASYM_KSPI4 =   -0.353670291301  # found from code at AsymmetryTools main.py\n",
    "RAW_ASYM4 = -1.2334852218892387 #raw asymmetry chosen from mass fitting of John + Gauss (+line for nackground) # %\n",
    "\n",
    "DET_ASYM_KPIPI_ERROR4 =   0.131989740038 # found from code at AsymmetryTools main.py\n",
    "DET_ASYM_KSPI_ERROR4 =  0.27219747199 # found from code at AsymmetryTools main.py\n",
    "RAW_ASYM_ERROR4 =  0.1109354422060386\n",
    "\n",
    "DET_ASYM_KPI4 =  DET_ASYM_KSPI4 -DET_ASYM_KPIPI4 - ASYM_K0 #% #K+pi- asymmetry\n",
    "DET_ASYM_KPI4_ERROR = np.sqrt(DET_ASYM_KSPI_ERROR4**2 + DET_ASYM_KPIPI_ERROR4**2 + ASYM_K0_ERROR**2) \n",
    "\n",
    "PROD_ASYM4 = RAW_ASYM4 + DET_ASYM_KPI4\n",
    "PROD_ASYM4_ERROR = np.sqrt(DET_ASYM_KPI4_ERROR**2 + RAW_ASYM_ERROR4**2)\n",
    "\n",
    "\n",
    "print(r'The detection asymmetry for the D0 Kpi physics channel is', round(DET_ASYM_KPI4, 3), '+/-',\n",
    "      round(DET_ASYM_KPI4_ERROR, 3), '%.')\n",
    "print(r'The production asymmetry for the D0 Kpi physics channel is', round(PROD_ASYM4, 3), '+/-',\n",
    "      round(PROD_ASYM4_ERROR, 3), '%.')\n"
   ]
  },
  {
   "cell_type": "code",
   "execution_count": null,
   "id": "40d11d80",
   "metadata": {},
   "outputs": [],
   "source": []
  },
  {
   "cell_type": "code",
   "execution_count": null,
   "id": "5a0b084e",
   "metadata": {},
   "outputs": [],
   "source": []
  },
  {
   "cell_type": "code",
   "execution_count": null,
   "id": "6351daac",
   "metadata": {},
   "outputs": [],
   "source": []
  },
  {
   "cell_type": "code",
   "execution_count": null,
   "id": "50d79daf",
   "metadata": {},
   "outputs": [],
   "source": []
  },
  {
   "cell_type": "code",
   "execution_count": null,
   "id": "68ab7c5e",
   "metadata": {},
   "outputs": [],
   "source": []
  }
 ],
 "metadata": {
  "kernelspec": {
   "display_name": "Python 3",
   "language": "python",
   "name": "python3"
  },
  "language_info": {
   "codemirror_mode": {
    "name": "ipython",
    "version": 3
   },
   "file_extension": ".py",
   "mimetype": "text/x-python",
   "name": "python",
   "nbconvert_exporter": "python",
   "pygments_lexer": "ipython3",
   "version": "3.9.12"
  }
 },
 "nbformat": 4,
 "nbformat_minor": 5
}
